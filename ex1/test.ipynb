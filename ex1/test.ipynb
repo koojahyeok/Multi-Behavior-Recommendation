{
 "cells": [
  {
   "cell_type": "code",
   "execution_count": 1,
   "metadata": {},
   "outputs": [],
   "source": [
    "import argparse\n",
    "import os\n",
    "import random\n",
    "import time\n",
    "\n",
    "import numpy as np\n",
    "import torch\n",
    "import torch.nn as nn\n",
    "from loguru import logger\n",
    "# import wandb\n",
    "import json\n",
    "\n",
    "import dataset\n",
    "from torch.utils.data import DataLoader\n",
    "import train\n",
    "import test\n",
    "import utils\n",
    "\n",
    "# from model.bipn import BIPN\n",
    "# from model.mbcgcn import MBCGCN\n",
    "from model.lightGCN import LightGCN"
   ]
  },
  {
   "cell_type": "code",
   "execution_count": 2,
   "metadata": {},
   "outputs": [],
   "source": [
    "parser = argparse.ArgumentParser()\n",
    "\n",
    "# hyper parameter setting\n",
    "parser.add_argument('--embedding_size', type=int, default=64, help='Choose Embedding size')\n",
    "parser.add_argument('--reg_weight', type=float, default=1e-3, help='')\n",
    "parser.add_argument('--log_reg', type=float, default=0.5, help='')\n",
    "parser.add_argument('--layers', type=int, default=2)\n",
    "parser.add_argument('--node_dropout', type=float, default=0.75)\n",
    "parser.add_argument('--message_dropout', type=float, default=0.25)\n",
    "parser.add_argument('--omega', type=float, default=1)\n",
    "parser.add_argument('--gamma', type=float, default=1e-10)\n",
    "\n",
    "# data setting\n",
    "parser.add_argument('--data_name', type=str, default='taobao', help='choose data name')\n",
    "parser.add_argument('--loss', type=str, default='bpr', help='')\n",
    "parser.add_argument('--negative_cnt', type=int, default=4, help='Number of negative sample')\n",
    "parser.add_argument('--num_workers', default=4, type=int, help='workers of dataloader')\n",
    "\n",
    "parser.add_argument('--if_load_model', type=bool, default=False, help='')\n",
    "parser.add_argument('--topk', type=list, default=[10, 20, 50, 80], help='')\n",
    "parser.add_argument('--metrics', type=list, default=['hit', 'ndcg'], help='')\n",
    "parser.add_argument('--lr', type=float, default=0.001, help='')\n",
    "parser.add_argument('--decay', type=float, default=0.001, help='')\n",
    "parser.add_argument('--batch_size', type=int, default=1024, help='set batch size')\n",
    "parser.add_argument('--min_epoch', type=str, default=5, help='')\n",
    "parser.add_argument('--epochs', type=str, default=200, help='')\n",
    "parser.add_argument('--model_path', type=str, default='./check_point', help='')\n",
    "parser.add_argument('--check_point', type=str, default='', help='')\n",
    "parser.add_argument('--model_name', type=str, default='BIPN', help='')\n",
    "\n",
    "parser.add_argument('--gpu_id', default=3, type=int, help='gpu_number')\n",
    "parser.add_argument('--train', default=True, type=eval, help='choose train or test')\n",
    "parser.add_argument('--model', default='ligthGCN', type=str, help='model name')\n",
    "parser.add_argument('--behv', default='buy', type=str, help='behavior name')\n",
    "\n",
    "\n",
    "args = parser.parse_args(args=[])"
   ]
  },
  {
   "cell_type": "code",
   "execution_count": 3,
   "metadata": {},
   "outputs": [],
   "source": [
    "device = torch.device(f'cuda:{0}')\n",
    "\n",
    "if args.data_name == 'tmall':\n",
    "    args.data_pth = '/disks/ssd1/jahyeok/MBR_data/Tmall'\n",
    "    args.behaviors = ['buy', 'click', 'collect', 'cart']\n",
    "elif args.data_name == 'taobao':\n",
    "    args.data_pth = '/disks/ssd1/jahyeok/MBR_data/taobao'\n",
    "    args.behaviors = ['buy', 'view', 'cart']\n",
    "elif args.data_name == 'beibei':\n",
    "    args.data_pth = '/disks/ssd1/jahyeok/MBR_data/beibei'\n",
    "    args.behaviors = ['buy', 'view', 'cart']\n",
    "else:\n",
    "    raise Exception('data_name cannot be None')"
   ]
  },
  {
   "cell_type": "code",
   "execution_count": 4,
   "metadata": {},
   "outputs": [
    {
     "data": {
      "text/plain": [
       "'taobao'"
      ]
     },
     "execution_count": 4,
     "metadata": {},
     "output_type": "execute_result"
    }
   ],
   "source": [
    "args.data_name"
   ]
  },
  {
   "cell_type": "code",
   "execution_count": 5,
   "metadata": {},
   "outputs": [],
   "source": [
    "cnt_file_pth = os.path.join(args.data_pth, 'count.txt')\n",
    "with open(os.path.join(cnt_file_pth), encoding='utf-8') as r:\n",
    "    cnt_data = json.load(r)\n",
    "    N_user = cnt_data['user']\n",
    "    N_item = cnt_data['item']"
   ]
  },
  {
   "cell_type": "code",
   "execution_count": 6,
   "metadata": {},
   "outputs": [],
   "source": [
    "test_data = dataset.TestDataset(os.path.join(args.data_pth, 'test.txt'))\n",
    "test_dl = DataLoader(dataset=test_data,\n",
    "                        num_workers=args.num_workers,\n",
    "                        batch_size=args.batch_size)\n",
    "\n",
    "# make matrices which we need\n",
    "inter_matrix, user_item_inter_set, all_inter_matrix, dicts = utils.make_inter_matrix(args.data_pth, args.behaviors, N_user, N_item)\n",
    "matrix_list = []\n",
    "matrix_list.append(inter_matrix)\n",
    "matrix_list.append(user_item_inter_set)\n",
    "matrix_list.append(all_inter_matrix)\n"
   ]
  },
  {
   "cell_type": "code",
   "execution_count": 7,
   "metadata": {},
   "outputs": [],
   "source": [
    "buy_pth = '/home/jahyeok/Desktop/urop/lighgtcn_ex/check_point/taobao_all_graph/buy/0.001/2/model.pth'\n",
    "cart_pth = '/home/jahyeok/Desktop/urop/lighgtcn_ex/check_point/taobao_all_graph/cart/0.001/2/model.pth'\n",
    "view_pth = '/home/jahyeok/Desktop/urop/lighgtcn_ex/check_point/taobao_all_graph/view/0.001/2/model.pth'\n",
    "\n",
    "buy_dict = torch.load(buy_pth, map_location=device, weights_only=True)\n",
    "cart_dict = torch.load(cart_pth, map_location=device, weights_only=True)\n",
    "view_dict = torch.load(view_pth, map_location=device, weights_only=True)\n",
    "\n",
    "model_buy = LightGCN(args, device, args.layers, N_user+1, N_item+1, matrix_list[2]).to(device)\n",
    "model_cart = LightGCN(args, device, args.layers, N_user+1, N_item+1, matrix_list[2]).to(device)\n",
    "model_view = LightGCN(args, device, args.layers, N_user+1, N_item+1, matrix_list[2]).to(device)\n",
    "\n",
    "model_buy.load_state_dict(buy_dict)\n",
    "model_cart.load_state_dict(cart_dict)\n",
    "model_view.load_state_dict(view_dict)"
   ]
  },
  {
   "cell_type": "code",
   "execution_count": 12,
   "metadata": {},
   "outputs": [],
   "source": [
    "from itertools import product\n",
    "\n",
    "weight_range = np.arange(0, 1.1, 0.1)\n",
    "combinations = [(a, b, 1 - a - b) for a, b in product(weight_range, repeat=2) if 0 <= 1 - a - b <= 1]"
   ]
  },
  {
   "cell_type": "code",
   "execution_count": 15,
   "metadata": {},
   "outputs": [],
   "source": [
    "def calculate_result(args, topk_list, gt_len):\n",
    "    result_list = []\n",
    "    for metric in args.metrics:\n",
    "        metric_fuc = metrics_dict[metric.lower()]\n",
    "        result = metric_fuc(topk_list, gt_len)\n",
    "        result_list.append(result)\n",
    "    result_list = np.stack(result_list, axis=0).mean(axis=1)\n",
    "    metric_dict = {}\n",
    "    for topk in args.topk:\n",
    "        for metric, value in zip(args.metrics, result_list):\n",
    "            key = '{}@{}'.format(metric, topk)\n",
    "            metric_dict[key] = np.round(value[topk - 1], 4)\n",
    "\n",
    "    return metric_dict"
   ]
  },
  {
   "cell_type": "code",
   "execution_count": 22,
   "metadata": {},
   "outputs": [
    {
     "data": {
      "text/plain": [
       "['22645', '27385', '3560', '14335']"
      ]
     },
     "execution_count": 22,
     "metadata": {},
     "output_type": "execute_result"
    }
   ],
   "source": [
    "dicts['buy'].get('1')"
   ]
  },
  {
   "cell_type": "code",
   "execution_count": 24,
   "metadata": {},
   "outputs": [],
   "source": [
    "gt_length = utils.make_gt_length(args.data_pth, 0)"
   ]
  },
  {
   "cell_type": "code",
   "execution_count": 25,
   "metadata": {},
   "outputs": [
    {
     "data": {
      "text/plain": [
       "array([1, 1, 1, ..., 1, 1, 1])"
      ]
     },
     "execution_count": 25,
     "metadata": {},
     "output_type": "execute_result"
    }
   ],
   "source": [
    "gt_length"
   ]
  },
  {
   "cell_type": "code",
   "execution_count": 26,
   "metadata": {},
   "outputs": [
    {
     "name": "stdout",
     "output_type": "stream",
     "text": [
      "(0.30000000000000004, 0.4, 0.29999999999999993)\n"
     ]
    }
   ],
   "source": [
    "from metrics import metrics_dict\n",
    "\n",
    "max_score = float('-inf')\n",
    "optimal_weights = (0, 0 , 0)\n",
    "\n",
    "model_buy.eval()\n",
    "model_cart.eval()\n",
    "model_view.eval()\n",
    "\n",
    "with torch.no_grad():\n",
    "    for (a, b, c) in combinations:\n",
    "\n",
    "        topk_list = []\n",
    "\n",
    "        for idx, data in enumerate(test_dl):\n",
    "            data = data.to(device)\n",
    "            start = time.time()\n",
    "            \n",
    "            users = data[:, 0]\n",
    "\n",
    "            scores_buy = model_buy.full_predict(users)\n",
    "            scores_cart = model_cart.full_predict(users)\n",
    "            scores_view = model_view.full_predict(users)\n",
    "\n",
    "            scores = a * scores_buy + b * scores_cart + c * scores_view\n",
    "\n",
    "            for index, user in enumerate(users):\n",
    "                user_score = scores[index]\n",
    "                items = [int(item) for item in dicts['buy'].get(str(user.item()))]\n",
    "                if items is not None:\n",
    "                    user_score[items] = -np.inf\n",
    "                _, topk_idx = torch.topk(user_score, max(args.topk), dim=-1)\n",
    "                gt_items = data[index, 1]\n",
    "                mask = np.isin(topk_idx.cpu().numpy(), gt_items.cpu().numpy())\n",
    "                topk_list.append(mask)\n",
    "\n",
    "        topk_list = np.array(topk_list)\n",
    "        metric_dict = calculate_result(args, topk_list, gt_length)\n",
    "\n",
    "        final_score = metric_dict['hit@20']\n",
    "        if final_score > max_score:\n",
    "            max_score = final_score\n",
    "            optimal_weights = (a, b, c)\n",
    "\n",
    "print(optimal_weights)\n"
   ]
  },
  {
   "cell_type": "code",
   "execution_count": 36,
   "metadata": {},
   "outputs": [
    {
     "data": {
      "text/plain": [
       "0.3518"
      ]
     },
     "execution_count": 36,
     "metadata": {},
     "output_type": "execute_result"
    }
   ],
   "source": [
    "max_score"
   ]
  },
  {
   "cell_type": "code",
   "execution_count": 45,
   "metadata": {},
   "outputs": [],
   "source": [
    "a = 0.3\n",
    "b = 0.4\n",
    "c = 0.3\n",
    "\n",
    "with torch.no_grad():\n",
    "    topk_list = []\n",
    "\n",
    "    for idx, data in enumerate(test_dl):\n",
    "        data = data.to(device)\n",
    "        start = time.time()\n",
    "        \n",
    "        users = data[:, 0]\n",
    "\n",
    "        scores_buy = model_buy.full_predict(users)\n",
    "        scores_cart = model_cart.full_predict(users)\n",
    "        scores_view = model_view.full_predict(users)\n",
    "\n",
    "        scores = a * scores_buy + b * scores_cart + c * scores_view\n",
    "\n",
    "        for index, user in enumerate(users):\n",
    "            user_score = scores[index]\n",
    "            items = [int(item) for item in dicts['buy'].get(str(user.item()))]\n",
    "            if items is not None:\n",
    "                user_score[items] = -np.inf\n",
    "            _, topk_idx = torch.topk(user_score, max(args.topk), dim=-1)\n",
    "            gt_items = data[index, 1]\n",
    "            mask = np.isin(topk_idx.cpu().numpy(), gt_items.cpu().numpy())\n",
    "            topk_list.append(mask)\n",
    "\n",
    "    topk_list = np.array(topk_list)\n",
    "    metric_dict = calculate_result(args, topk_list, gt_length)"
   ]
  },
  {
   "cell_type": "code",
   "execution_count": 46,
   "metadata": {},
   "outputs": [
    {
     "data": {
      "text/plain": [
       "{'hit@10': 0.2798,\n",
       " 'ndcg@10': 0.1513,\n",
       " 'hit@20': 0.3518,\n",
       " 'ndcg@20': 0.1696,\n",
       " 'hit@50': 0.4249,\n",
       " 'ndcg@50': 0.1843,\n",
       " 'hit@80': 0.4594,\n",
       " 'ndcg@80': 0.19}"
      ]
     },
     "execution_count": 46,
     "metadata": {},
     "output_type": "execute_result"
    }
   ],
   "source": [
    "metric_dict"
   ]
  },
  {
   "cell_type": "code",
   "execution_count": 47,
   "metadata": {},
   "outputs": [
    {
     "name": "stdout",
     "output_type": "stream",
     "text": [
      "{'hit@10': 0.1614, 'ndcg@10': 0.0977, 'hit@20': 0.1979, 'ndcg@20': 0.1069, 'hit@50': 0.25, 'ndcg@50': 0.1173, 'hit@80': 0.2786, 'ndcg@80': 0.122}\n"
     ]
    }
   ],
   "source": [
    "with torch.no_grad():\n",
    "    topk_list = []\n",
    "\n",
    "    for idx, data in enumerate(test_dl):\n",
    "        data = data.to(device)\n",
    "        start = time.time()\n",
    "        \n",
    "        users = data[:, 0]\n",
    "\n",
    "        scores_buy = model_buy.full_predict(users)\n",
    "        # scores_cart = model_cart.full_predict(users)\n",
    "        # scores_view = model_view.full_predict(users)\n",
    "\n",
    "        # scores = scores_buy + scores_cart + scores_view\n",
    "        # scores = scores / 3\n",
    "\n",
    "        scores = scores_buy\n",
    "\n",
    "        for index, user in enumerate(users):\n",
    "            user_score = scores[index]\n",
    "            items = [int(item) for item in dicts['buy'].get(str(user.item()))]\n",
    "            if items is not None:\n",
    "                user_score[items] = -np.inf\n",
    "            _, topk_idx = torch.topk(user_score, max(args.topk), dim=-1)\n",
    "            gt_items = data[index, 1]\n",
    "            mask = np.isin(topk_idx.cpu().numpy(), gt_items.cpu().numpy())\n",
    "            topk_list.append(mask)\n",
    "\n",
    "    topk_list = np.array(topk_list)\n",
    "    metric_dict = calculate_result(args, topk_list, gt_length)\n",
    "\n",
    "print(metric_dict)"
   ]
  },
  {
   "cell_type": "code",
   "execution_count": 56,
   "metadata": {},
   "outputs": [
    {
     "name": "stdout",
     "output_type": "stream",
     "text": [
      "{'hit@10': 0.1534, 'ndcg@10': 0.0945, 'hit@20': 0.1867, 'ndcg@20': 0.1029, 'hit@50': 0.2331, 'ndcg@50': 0.1121, 'hit@80': 0.2581, 'ndcg@80': 0.1162}\n"
     ]
    }
   ],
   "source": [
    "with torch.no_grad():\n",
    "    topk_list = []\n",
    "\n",
    "    for idx, data in enumerate(test_dl):\n",
    "        data = data.to(device)\n",
    "        start = time.time()\n",
    "        \n",
    "        users = data[:, 0]\n",
    "\n",
    "        # scores_buy = model_buy.full_predict(users)\n",
    "        scores_cart = model_cart.full_predict(users)\n",
    "        # scores_view = model_view.full_predict(users)\n",
    "\n",
    "        # scores = scores_buy + scores_cart + scores_view\n",
    "        # scores = scores / 3\n",
    "\n",
    "        scores = scores_cart\n",
    "\n",
    "        for index, user in enumerate(users):\n",
    "            user_score = scores[index]\n",
    "            items = [int(item) for item in dicts['buy'].get(str(user.item()))]\n",
    "            if items is not None:\n",
    "                user_score[items] = -np.inf\n",
    "            _, topk_idx = torch.topk(user_score, max(args.topk), dim=-1)\n",
    "            gt_items = data[index, 1]\n",
    "            mask = np.isin(topk_idx.cpu().numpy(), gt_items.cpu().numpy())\n",
    "            topk_list.append(mask)\n",
    "\n",
    "    topk_list = np.array(topk_list)\n",
    "    metric_dict = calculate_result(args, topk_list, gt_length)\n",
    "\n",
    "print(metric_dict)"
   ]
  },
  {
   "cell_type": "code",
   "execution_count": 58,
   "metadata": {},
   "outputs": [
    {
     "name": "stdout",
     "output_type": "stream",
     "text": [
      "tensor([[ 0.0000,  0.2854,  0.1853,  ..., -0.4456,  1.2567,  0.9980],\n",
      "        [ 0.0000,  1.3996,  0.4552,  ..., -0.2107, -0.0212, -0.0878],\n",
      "        [ 0.0000,  0.8908,  0.1243,  ...,  0.0380, -0.1217, -0.2959],\n",
      "        ...,\n",
      "        [ 0.0000, -0.4086, -0.0979,  ...,  0.8891,  0.7114, -0.7668],\n",
      "        [ 0.0000, -0.1245,  0.5436,  ..., -0.4815,  0.1031,  0.2343],\n",
      "        [ 0.0000,  1.9735,  1.1318,  ..., -0.3188,  1.2884, -0.0913]],\n",
      "       device='cuda:0')\n",
      "tensor([[ 0.0000, -0.0685,  0.0392,  ..., -0.4113, -0.5065,  1.4249],\n",
      "        [ 0.0000,  1.1624, -0.6507,  ...,  0.7997,  1.3969, -1.4976],\n",
      "        [ 0.0000,  0.8773,  1.0363,  ...,  2.6248, -0.7933,  0.7905],\n",
      "        ...,\n",
      "        [ 0.0000, -1.7777,  1.4014,  ..., -0.6711, -2.5553,  0.2030],\n",
      "        [ 0.0000, -0.1211, -0.3091,  ..., -0.3016,  0.4529, -2.0134],\n",
      "        [ 0.0000, -0.7531,  0.0710,  ..., -0.3412, -0.8873,  0.2409]],\n",
      "       device='cuda:0')\n",
      "tensor([[ 0.0000, -0.8022, -1.2256,  ..., -1.4102, -1.5102, -0.2309],\n",
      "        [ 0.0000, -0.2835,  0.3821,  ..., -1.3647, -0.5224,  0.3148],\n",
      "        [ 0.0000,  0.0502, -0.4943,  ...,  0.4733,  0.2674, -1.4661],\n",
      "        ...,\n",
      "        [ 0.0000, -2.9426, -1.1318,  ..., -0.7217, -0.3018,  0.5614],\n",
      "        [ 0.0000,  1.0642, -0.7910,  ..., -0.8134, -0.3251,  0.2276],\n",
      "        [ 0.0000, -0.6148,  1.8363,  ...,  0.2856, -1.0196, -1.6297]],\n",
      "       device='cuda:0')\n"
     ]
    }
   ],
   "source": [
    "print(scores_buy)\n",
    "print(scores_cart)\n",
    "print(scores_view)"
   ]
  },
  {
   "cell_type": "code",
   "execution_count": 51,
   "metadata": {},
   "outputs": [
    {
     "data": {
      "text/plain": [
       "<All keys matched successfully>"
      ]
     },
     "execution_count": 51,
     "metadata": {},
     "output_type": "execute_result"
    }
   ],
   "source": [
    "lightGCN_pth = '/home/jahyeok/Desktop/urop/lighgtcn_ex/check_point/taobao_all_graph/ligthGCN/0.001/2/model.pth'\n",
    "\n",
    "lightGCN_dict = torch.load(lightGCN_pth, map_location=device, weights_only=True)\n",
    "\n",
    "model_lightGCN = LightGCN(args, device, args.layers, N_user+1, N_item+1, matrix_list[2]).to(device)\n",
    "\n",
    "model_lightGCN.load_state_dict(lightGCN_dict)"
   ]
  },
  {
   "cell_type": "code",
   "execution_count": 52,
   "metadata": {},
   "outputs": [
    {
     "name": "stdout",
     "output_type": "stream",
     "text": [
      "{'hit@10': 0.1285, 'ndcg@10': 0.0805, 'hit@20': 0.1607, 'ndcg@20': 0.0887, 'hit@50': 0.2091, 'ndcg@50': 0.0983, 'hit@80': 0.2369, 'ndcg@80': 0.1029}\n"
     ]
    }
   ],
   "source": [
    "with torch.no_grad():\n",
    "    topk_list = []\n",
    "\n",
    "    for idx, data in enumerate(test_dl):\n",
    "        data = data.to(device)\n",
    "        start = time.time()\n",
    "        \n",
    "        users = data[:, 0]\n",
    "\n",
    "        scores_buy = model_lightGCN.full_predict(users)\n",
    "        # scores_cart = model_cart.full_predict(users)\n",
    "        # scores_view = model_view.full_predict(users)\n",
    "\n",
    "        # scores = scores_buy + scores_cart + scores_view\n",
    "        # scores = scores / 3\n",
    "\n",
    "        scores = scores_buy\n",
    "\n",
    "        for index, user in enumerate(users):\n",
    "            user_score = scores[index]\n",
    "            items = [int(item) for item in dicts['buy'].get(str(user.item()))]\n",
    "            if items is not None:\n",
    "                user_score[items] = -np.inf\n",
    "            _, topk_idx = torch.topk(user_score, max(args.topk), dim=-1)\n",
    "            gt_items = data[index, 1]\n",
    "            mask = np.isin(topk_idx.cpu().numpy(), gt_items.cpu().numpy())\n",
    "            topk_list.append(mask)\n",
    "\n",
    "    topk_list = np.array(topk_list)\n",
    "    metric_dict = calculate_result(args, topk_list, gt_length)\n",
    "\n",
    "print(metric_dict)"
   ]
  }
 ],
 "metadata": {
  "kernelspec": {
   "display_name": "jh1",
   "language": "python",
   "name": "python3"
  },
  "language_info": {
   "codemirror_mode": {
    "name": "ipython",
    "version": 3
   },
   "file_extension": ".py",
   "mimetype": "text/x-python",
   "name": "python",
   "nbconvert_exporter": "python",
   "pygments_lexer": "ipython3",
   "version": "3.8.18"
  }
 },
 "nbformat": 4,
 "nbformat_minor": 2
}
